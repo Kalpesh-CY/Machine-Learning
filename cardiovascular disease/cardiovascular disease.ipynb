{
 "cells": [
  {
   "cell_type": "markdown",
   "id": "c3ae62ff",
   "metadata": {
    "toc": true
   },
   "source": [
    "<h1>Table of Contents<span class=\"tocSkip\"></span></h1>\n",
    "<div class=\"toc\"><ul class=\"toc-item\"><li><span><a href=\"#Import-libraries\" data-toc-modified-id=\"Import-libraries-1\"><span class=\"toc-item-num\">1&nbsp;&nbsp;</span>Import libraries</a></span></li><li><span><a href=\"#Import-dataset\" data-toc-modified-id=\"Import-dataset-2\"><span class=\"toc-item-num\">2&nbsp;&nbsp;</span>Import dataset</a></span></li><li><span><a href=\"#Feature-engineering\" data-toc-modified-id=\"Feature-engineering-3\"><span class=\"toc-item-num\">3&nbsp;&nbsp;</span>Feature engineering</a></span></li><li><span><a href=\"#Encoding:\" data-toc-modified-id=\"Encoding:-4\"><span class=\"toc-item-num\">4&nbsp;&nbsp;</span>Encoding:</a></span><ul class=\"toc-item\"><li><span><a href=\"#count-encoder:\" data-toc-modified-id=\"count-encoder:-4.1\"><span class=\"toc-item-num\">4.1&nbsp;&nbsp;</span>count encoder:</a></span></li><li><span><a href=\"#Count-encoder\" data-toc-modified-id=\"Count-encoder-4.2\"><span class=\"toc-item-num\">4.2&nbsp;&nbsp;</span>Count encoder</a></span></li><li><span><a href=\"#OneHotEncoder:\" data-toc-modified-id=\"OneHotEncoder:-4.3\"><span class=\"toc-item-num\">4.3&nbsp;&nbsp;</span>OneHotEncoder:</a></span></li><li><span><a href=\"#Ordinal-Encoding:\" data-toc-modified-id=\"Ordinal-Encoding:-4.4\"><span class=\"toc-item-num\">4.4&nbsp;&nbsp;</span>Ordinal Encoding:</a></span></li></ul></li><li><span><a href=\"#Model-building\" data-toc-modified-id=\"Model-building-5\"><span class=\"toc-item-num\">5&nbsp;&nbsp;</span>Model building</a></span></li></ul></div>"
   ]
  },
  {
   "cell_type": "raw",
   "id": "45b8a884",
   "metadata": {},
   "source": [
    "Provides a comprehensive image for cardiovascular diseases & related prevention.  \n",
    "Data provides a comprehensive picture of the public health burden of CVDs and associated risk factors in the United States.\n",
    "Here we have study and analyze data and build machine learning model diesease prediaction."
   ]
  },
  {
   "cell_type": "markdown",
   "id": "99e2b64e",
   "metadata": {},
   "source": [
    "## Import libraries "
   ]
  },
  {
   "cell_type": "code",
   "execution_count": 1,
   "id": "f3696751",
   "metadata": {},
   "outputs": [],
   "source": [
    "import pandas as pd\n",
    "import numpy as np\n",
    "import seaborn as sns\n",
    "import matplotlib.pyplot as plt\n",
    "%matplotlib inline\n",
    "from warnings import filterwarnings\n",
    "filterwarnings('ignore')"
   ]
  },
  {
   "cell_type": "markdown",
   "id": "86aeb1dc",
   "metadata": {},
   "source": [
    "## Import dataset"
   ]
  },
  {
   "cell_type": "code",
   "execution_count": 2,
   "id": "16a7c561",
   "metadata": {},
   "outputs": [
    {
     "data": {
      "text/html": [
       "<div>\n",
       "<style scoped>\n",
       "    .dataframe tbody tr th:only-of-type {\n",
       "        vertical-align: middle;\n",
       "    }\n",
       "\n",
       "    .dataframe tbody tr th {\n",
       "        vertical-align: top;\n",
       "    }\n",
       "\n",
       "    .dataframe thead th {\n",
       "        text-align: right;\n",
       "    }\n",
       "</style>\n",
       "<table border=\"1\" class=\"dataframe\">\n",
       "  <thead>\n",
       "    <tr style=\"text-align: right;\">\n",
       "      <th></th>\n",
       "      <th>Year</th>\n",
       "      <th>LocationAbbr</th>\n",
       "      <th>LocationDesc</th>\n",
       "      <th>Datasource</th>\n",
       "      <th>PriorityArea1</th>\n",
       "      <th>PriorityArea2</th>\n",
       "      <th>PriorityArea3</th>\n",
       "      <th>PriorityArea4</th>\n",
       "      <th>Category</th>\n",
       "      <th>Topic</th>\n",
       "      <th>...</th>\n",
       "      <th>Break_Out_Category</th>\n",
       "      <th>Break_out</th>\n",
       "      <th>CategoryID</th>\n",
       "      <th>TopicID</th>\n",
       "      <th>IndicatorID</th>\n",
       "      <th>Data_Value_TypeID</th>\n",
       "      <th>BreakoutCategoryID</th>\n",
       "      <th>BreakOutID</th>\n",
       "      <th>LocationID</th>\n",
       "      <th>GeoLocation</th>\n",
       "    </tr>\n",
       "  </thead>\n",
       "  <tbody>\n",
       "    <tr>\n",
       "      <th>0</th>\n",
       "      <td>2011</td>\n",
       "      <td>AL</td>\n",
       "      <td>Alabama</td>\n",
       "      <td>BRFSS</td>\n",
       "      <td>None</td>\n",
       "      <td>None</td>\n",
       "      <td>None</td>\n",
       "      <td>None</td>\n",
       "      <td>Cardiovascular Diseases</td>\n",
       "      <td>Major Cardiovascular Disease</td>\n",
       "      <td>...</td>\n",
       "      <td>Overall</td>\n",
       "      <td>Overall</td>\n",
       "      <td>C1</td>\n",
       "      <td>T1</td>\n",
       "      <td>BR001</td>\n",
       "      <td>AgeStdz</td>\n",
       "      <td>BOC01</td>\n",
       "      <td>OVR01</td>\n",
       "      <td>1</td>\n",
       "      <td>(32.84057112200048, -86.63186076199969)</td>\n",
       "    </tr>\n",
       "    <tr>\n",
       "      <th>1</th>\n",
       "      <td>2011</td>\n",
       "      <td>AL</td>\n",
       "      <td>Alabama</td>\n",
       "      <td>BRFSS</td>\n",
       "      <td>None</td>\n",
       "      <td>None</td>\n",
       "      <td>None</td>\n",
       "      <td>None</td>\n",
       "      <td>Cardiovascular Diseases</td>\n",
       "      <td>Major Cardiovascular Disease</td>\n",
       "      <td>...</td>\n",
       "      <td>Overall</td>\n",
       "      <td>Overall</td>\n",
       "      <td>C1</td>\n",
       "      <td>T1</td>\n",
       "      <td>BR001</td>\n",
       "      <td>Crude</td>\n",
       "      <td>BOC01</td>\n",
       "      <td>OVR01</td>\n",
       "      <td>1</td>\n",
       "      <td>(32.84057112200048, -86.63186076199969)</td>\n",
       "    </tr>\n",
       "    <tr>\n",
       "      <th>2</th>\n",
       "      <td>2011</td>\n",
       "      <td>AL</td>\n",
       "      <td>Alabama</td>\n",
       "      <td>BRFSS</td>\n",
       "      <td>None</td>\n",
       "      <td>None</td>\n",
       "      <td>None</td>\n",
       "      <td>None</td>\n",
       "      <td>Cardiovascular Diseases</td>\n",
       "      <td>Major Cardiovascular Disease</td>\n",
       "      <td>...</td>\n",
       "      <td>Gender</td>\n",
       "      <td>Male</td>\n",
       "      <td>C1</td>\n",
       "      <td>T1</td>\n",
       "      <td>BR001</td>\n",
       "      <td>Crude</td>\n",
       "      <td>BOC02</td>\n",
       "      <td>GEN01</td>\n",
       "      <td>1</td>\n",
       "      <td>(32.84057112200048, -86.63186076199969)</td>\n",
       "    </tr>\n",
       "    <tr>\n",
       "      <th>3</th>\n",
       "      <td>2011</td>\n",
       "      <td>AL</td>\n",
       "      <td>Alabama</td>\n",
       "      <td>BRFSS</td>\n",
       "      <td>None</td>\n",
       "      <td>None</td>\n",
       "      <td>None</td>\n",
       "      <td>None</td>\n",
       "      <td>Cardiovascular Diseases</td>\n",
       "      <td>Major Cardiovascular Disease</td>\n",
       "      <td>...</td>\n",
       "      <td>Gender</td>\n",
       "      <td>Male</td>\n",
       "      <td>C1</td>\n",
       "      <td>T1</td>\n",
       "      <td>BR001</td>\n",
       "      <td>AgeStdz</td>\n",
       "      <td>BOC02</td>\n",
       "      <td>GEN01</td>\n",
       "      <td>1</td>\n",
       "      <td>(32.84057112200048, -86.63186076199969)</td>\n",
       "    </tr>\n",
       "    <tr>\n",
       "      <th>4</th>\n",
       "      <td>2011</td>\n",
       "      <td>AL</td>\n",
       "      <td>Alabama</td>\n",
       "      <td>BRFSS</td>\n",
       "      <td>None</td>\n",
       "      <td>None</td>\n",
       "      <td>None</td>\n",
       "      <td>None</td>\n",
       "      <td>Cardiovascular Diseases</td>\n",
       "      <td>Major Cardiovascular Disease</td>\n",
       "      <td>...</td>\n",
       "      <td>Gender</td>\n",
       "      <td>Female</td>\n",
       "      <td>C1</td>\n",
       "      <td>T1</td>\n",
       "      <td>BR001</td>\n",
       "      <td>AgeStdz</td>\n",
       "      <td>BOC02</td>\n",
       "      <td>GEN02</td>\n",
       "      <td>1</td>\n",
       "      <td>(32.84057112200048, -86.63186076199969)</td>\n",
       "    </tr>\n",
       "    <tr>\n",
       "      <th>...</th>\n",
       "      <td>...</td>\n",
       "      <td>...</td>\n",
       "      <td>...</td>\n",
       "      <td>...</td>\n",
       "      <td>...</td>\n",
       "      <td>...</td>\n",
       "      <td>...</td>\n",
       "      <td>...</td>\n",
       "      <td>...</td>\n",
       "      <td>...</td>\n",
       "      <td>...</td>\n",
       "      <td>...</td>\n",
       "      <td>...</td>\n",
       "      <td>...</td>\n",
       "      <td>...</td>\n",
       "      <td>...</td>\n",
       "      <td>...</td>\n",
       "      <td>...</td>\n",
       "      <td>...</td>\n",
       "      <td>...</td>\n",
       "      <td>...</td>\n",
       "    </tr>\n",
       "    <tr>\n",
       "      <th>85795</th>\n",
       "      <td>2015</td>\n",
       "      <td>USM</td>\n",
       "      <td>Median of all states</td>\n",
       "      <td>BRFSS</td>\n",
       "      <td>None</td>\n",
       "      <td>None</td>\n",
       "      <td>Healthy People 2020</td>\n",
       "      <td>None</td>\n",
       "      <td>Risk Factors</td>\n",
       "      <td>Hypertension</td>\n",
       "      <td>...</td>\n",
       "      <td>Race</td>\n",
       "      <td>Non-Hispanic Asian</td>\n",
       "      <td>C2</td>\n",
       "      <td>T9</td>\n",
       "      <td>BR012</td>\n",
       "      <td>AgeStdz</td>\n",
       "      <td>BOC04</td>\n",
       "      <td>RAC03</td>\n",
       "      <td>58</td>\n",
       "      <td>NaN</td>\n",
       "    </tr>\n",
       "    <tr>\n",
       "      <th>85796</th>\n",
       "      <td>2015</td>\n",
       "      <td>USM</td>\n",
       "      <td>Median of all states</td>\n",
       "      <td>BRFSS</td>\n",
       "      <td>None</td>\n",
       "      <td>None</td>\n",
       "      <td>Healthy People 2020</td>\n",
       "      <td>None</td>\n",
       "      <td>Risk Factors</td>\n",
       "      <td>Hypertension</td>\n",
       "      <td>...</td>\n",
       "      <td>Race</td>\n",
       "      <td>Hispanic</td>\n",
       "      <td>C2</td>\n",
       "      <td>T9</td>\n",
       "      <td>BR012</td>\n",
       "      <td>AgeStdz</td>\n",
       "      <td>BOC04</td>\n",
       "      <td>RAC04</td>\n",
       "      <td>58</td>\n",
       "      <td>NaN</td>\n",
       "    </tr>\n",
       "    <tr>\n",
       "      <th>85797</th>\n",
       "      <td>2015</td>\n",
       "      <td>USM</td>\n",
       "      <td>Median of all states</td>\n",
       "      <td>BRFSS</td>\n",
       "      <td>None</td>\n",
       "      <td>None</td>\n",
       "      <td>Healthy People 2020</td>\n",
       "      <td>None</td>\n",
       "      <td>Risk Factors</td>\n",
       "      <td>Hypertension</td>\n",
       "      <td>...</td>\n",
       "      <td>Race</td>\n",
       "      <td>Hispanic</td>\n",
       "      <td>C2</td>\n",
       "      <td>T9</td>\n",
       "      <td>BR012</td>\n",
       "      <td>Crude</td>\n",
       "      <td>BOC04</td>\n",
       "      <td>RAC04</td>\n",
       "      <td>58</td>\n",
       "      <td>NaN</td>\n",
       "    </tr>\n",
       "    <tr>\n",
       "      <th>85798</th>\n",
       "      <td>2015</td>\n",
       "      <td>USM</td>\n",
       "      <td>Median of all states</td>\n",
       "      <td>BRFSS</td>\n",
       "      <td>None</td>\n",
       "      <td>None</td>\n",
       "      <td>Healthy People 2020</td>\n",
       "      <td>None</td>\n",
       "      <td>Risk Factors</td>\n",
       "      <td>Hypertension</td>\n",
       "      <td>...</td>\n",
       "      <td>Race</td>\n",
       "      <td>Other</td>\n",
       "      <td>C2</td>\n",
       "      <td>T9</td>\n",
       "      <td>BR012</td>\n",
       "      <td>Crude</td>\n",
       "      <td>BOC04</td>\n",
       "      <td>RAC07</td>\n",
       "      <td>58</td>\n",
       "      <td>NaN</td>\n",
       "    </tr>\n",
       "    <tr>\n",
       "      <th>85799</th>\n",
       "      <td>2015</td>\n",
       "      <td>USM</td>\n",
       "      <td>Median of all states</td>\n",
       "      <td>BRFSS</td>\n",
       "      <td>None</td>\n",
       "      <td>None</td>\n",
       "      <td>Healthy People 2020</td>\n",
       "      <td>None</td>\n",
       "      <td>Risk Factors</td>\n",
       "      <td>Hypertension</td>\n",
       "      <td>...</td>\n",
       "      <td>Race</td>\n",
       "      <td>Other</td>\n",
       "      <td>C2</td>\n",
       "      <td>T9</td>\n",
       "      <td>BR012</td>\n",
       "      <td>AgeStdz</td>\n",
       "      <td>BOC04</td>\n",
       "      <td>RAC07</td>\n",
       "      <td>58</td>\n",
       "      <td>NaN</td>\n",
       "    </tr>\n",
       "  </tbody>\n",
       "</table>\n",
       "<p>85800 rows × 29 columns</p>\n",
       "</div>"
      ],
      "text/plain": [
       "       Year LocationAbbr          LocationDesc Datasource PriorityArea1  \\\n",
       "0      2011           AL               Alabama      BRFSS          None   \n",
       "1      2011           AL               Alabama      BRFSS          None   \n",
       "2      2011           AL               Alabama      BRFSS          None   \n",
       "3      2011           AL               Alabama      BRFSS          None   \n",
       "4      2011           AL               Alabama      BRFSS          None   \n",
       "...     ...          ...                   ...        ...           ...   \n",
       "85795  2015          USM  Median of all states      BRFSS          None   \n",
       "85796  2015          USM  Median of all states      BRFSS          None   \n",
       "85797  2015          USM  Median of all states      BRFSS          None   \n",
       "85798  2015          USM  Median of all states      BRFSS          None   \n",
       "85799  2015          USM  Median of all states      BRFSS          None   \n",
       "\n",
       "      PriorityArea2        PriorityArea3 PriorityArea4  \\\n",
       "0              None                 None          None   \n",
       "1              None                 None          None   \n",
       "2              None                 None          None   \n",
       "3              None                 None          None   \n",
       "4              None                 None          None   \n",
       "...             ...                  ...           ...   \n",
       "85795          None  Healthy People 2020          None   \n",
       "85796          None  Healthy People 2020          None   \n",
       "85797          None  Healthy People 2020          None   \n",
       "85798          None  Healthy People 2020          None   \n",
       "85799          None  Healthy People 2020          None   \n",
       "\n",
       "                      Category                         Topic  ...  \\\n",
       "0      Cardiovascular Diseases  Major Cardiovascular Disease  ...   \n",
       "1      Cardiovascular Diseases  Major Cardiovascular Disease  ...   \n",
       "2      Cardiovascular Diseases  Major Cardiovascular Disease  ...   \n",
       "3      Cardiovascular Diseases  Major Cardiovascular Disease  ...   \n",
       "4      Cardiovascular Diseases  Major Cardiovascular Disease  ...   \n",
       "...                        ...                           ...  ...   \n",
       "85795             Risk Factors                  Hypertension  ...   \n",
       "85796             Risk Factors                  Hypertension  ...   \n",
       "85797             Risk Factors                  Hypertension  ...   \n",
       "85798             Risk Factors                  Hypertension  ...   \n",
       "85799             Risk Factors                  Hypertension  ...   \n",
       "\n",
       "      Break_Out_Category           Break_out CategoryID  TopicID  IndicatorID  \\\n",
       "0                Overall             Overall         C1       T1        BR001   \n",
       "1                Overall             Overall         C1       T1        BR001   \n",
       "2                 Gender                Male         C1       T1        BR001   \n",
       "3                 Gender                Male         C1       T1        BR001   \n",
       "4                 Gender              Female         C1       T1        BR001   \n",
       "...                  ...                 ...        ...      ...          ...   \n",
       "85795               Race  Non-Hispanic Asian         C2       T9        BR012   \n",
       "85796               Race            Hispanic         C2       T9        BR012   \n",
       "85797               Race            Hispanic         C2       T9        BR012   \n",
       "85798               Race               Other         C2       T9        BR012   \n",
       "85799               Race               Other         C2       T9        BR012   \n",
       "\n",
       "      Data_Value_TypeID BreakoutCategoryID  BreakOutID  LocationID  \\\n",
       "0               AgeStdz              BOC01       OVR01           1   \n",
       "1                 Crude              BOC01       OVR01           1   \n",
       "2                 Crude              BOC02       GEN01           1   \n",
       "3               AgeStdz              BOC02       GEN01           1   \n",
       "4               AgeStdz              BOC02       GEN02           1   \n",
       "...                 ...                ...         ...         ...   \n",
       "85795           AgeStdz              BOC04       RAC03          58   \n",
       "85796           AgeStdz              BOC04       RAC04          58   \n",
       "85797             Crude              BOC04       RAC04          58   \n",
       "85798             Crude              BOC04       RAC07          58   \n",
       "85799           AgeStdz              BOC04       RAC07          58   \n",
       "\n",
       "                                   GeoLocation  \n",
       "0      (32.84057112200048, -86.63186076199969)  \n",
       "1      (32.84057112200048, -86.63186076199969)  \n",
       "2      (32.84057112200048, -86.63186076199969)  \n",
       "3      (32.84057112200048, -86.63186076199969)  \n",
       "4      (32.84057112200048, -86.63186076199969)  \n",
       "...                                        ...  \n",
       "85795                                      NaN  \n",
       "85796                                      NaN  \n",
       "85797                                      NaN  \n",
       "85798                                      NaN  \n",
       "85799                                      NaN  \n",
       "\n",
       "[85800 rows x 29 columns]"
      ]
     },
     "execution_count": 2,
     "metadata": {},
     "output_type": "execute_result"
    }
   ],
   "source": [
    "df= pd.read_csv('dataset.csv.zip')\n",
    "df"
   ]
  },
  {
   "cell_type": "markdown",
   "id": "cfb6b955",
   "metadata": {},
   "source": [
    "## Feature engineering"
   ]
  },
  {
   "cell_type": "code",
   "execution_count": 3,
   "id": "182a98c8",
   "metadata": {},
   "outputs": [
    {
     "name": "stdout",
     "output_type": "stream",
     "text": [
      "<class 'pandas.core.frame.DataFrame'>\n",
      "RangeIndex: 85800 entries, 0 to 85799\n",
      "Data columns (total 29 columns):\n",
      " #   Column                      Non-Null Count  Dtype  \n",
      "---  ------                      --------------  -----  \n",
      " 0   Year                        85800 non-null  int64  \n",
      " 1   LocationAbbr                85800 non-null  object \n",
      " 2   LocationDesc                85800 non-null  object \n",
      " 3   Datasource                  85800 non-null  object \n",
      " 4   PriorityArea1               85800 non-null  object \n",
      " 5   PriorityArea2               85800 non-null  object \n",
      " 6   PriorityArea3               85800 non-null  object \n",
      " 7   PriorityArea4               85800 non-null  object \n",
      " 8   Category                    85800 non-null  object \n",
      " 9   Topic                       85800 non-null  object \n",
      " 10  Indicator                   85800 non-null  object \n",
      " 11  Data_Value_Type             85800 non-null  object \n",
      " 12  Data_Value_Unit             85800 non-null  object \n",
      " 13  Data_Value                  57032 non-null  float64\n",
      " 14  Data_Value_Alt              85800 non-null  float64\n",
      " 15  Data_Value_Footnote_Symbol  28768 non-null  object \n",
      " 16  Data_Value_Footnote         28768 non-null  object \n",
      " 17  Confidence_Limit_Low        55633 non-null  float64\n",
      " 18  Confidence_Limit_High       55633 non-null  float64\n",
      " 19  Break_Out_Category          85800 non-null  object \n",
      " 20  Break_out                   85800 non-null  object \n",
      " 21  CategoryID                  85800 non-null  object \n",
      " 22  TopicID                     85800 non-null  object \n",
      " 23  IndicatorID                 85800 non-null  object \n",
      " 24  Data_Value_TypeID           85800 non-null  object \n",
      " 25  BreakoutCategoryID          85800 non-null  object \n",
      " 26  BreakOutID                  85800 non-null  object \n",
      " 27  LocationID                  85800 non-null  int64  \n",
      " 28  GeoLocation                 84150 non-null  object \n",
      "dtypes: float64(4), int64(2), object(23)\n",
      "memory usage: 19.0+ MB\n"
     ]
    }
   ],
   "source": [
    "df.info()"
   ]
  },
  {
   "cell_type": "code",
   "execution_count": 4,
   "id": "f4bbda11",
   "metadata": {},
   "outputs": [
    {
     "data": {
      "text/plain": [
       "Year                              0\n",
       "LocationAbbr                      0\n",
       "LocationDesc                      0\n",
       "Datasource                        0\n",
       "PriorityArea1                     0\n",
       "PriorityArea2                     0\n",
       "PriorityArea3                     0\n",
       "PriorityArea4                     0\n",
       "Category                          0\n",
       "Topic                             0\n",
       "Indicator                         0\n",
       "Data_Value_Type                   0\n",
       "Data_Value_Unit                   0\n",
       "Data_Value                    28768\n",
       "Data_Value_Alt                    0\n",
       "Data_Value_Footnote_Symbol    57032\n",
       "Data_Value_Footnote           57032\n",
       "Confidence_Limit_Low          30167\n",
       "Confidence_Limit_High         30167\n",
       "Break_Out_Category                0\n",
       "Break_out                         0\n",
       "CategoryID                        0\n",
       "TopicID                           0\n",
       "IndicatorID                       0\n",
       "Data_Value_TypeID                 0\n",
       "BreakoutCategoryID                0\n",
       "BreakOutID                        0\n",
       "LocationID                        0\n",
       "GeoLocation                    1650\n",
       "dtype: int64"
      ]
     },
     "execution_count": 4,
     "metadata": {},
     "output_type": "execute_result"
    }
   ],
   "source": [
    "#Checking null values\n",
    "df.isna().sum()"
   ]
  },
  {
   "cell_type": "code",
   "execution_count": 5,
   "id": "4361d90a",
   "metadata": {},
   "outputs": [
    {
     "data": {
      "text/plain": [
       "[RangeIndex(start=0, stop=85800, step=1),\n",
       " Index(['Year', 'LocationAbbr', 'LocationDesc', 'Datasource', 'PriorityArea1',\n",
       "        'PriorityArea2', 'PriorityArea3', 'PriorityArea4', 'Category', 'Topic',\n",
       "        'Indicator', 'Data_Value_Type', 'Data_Value_Unit', 'Data_Value',\n",
       "        'Data_Value_Alt', 'Data_Value_Footnote_Symbol', 'Data_Value_Footnote',\n",
       "        'Confidence_Limit_Low', 'Confidence_Limit_High', 'Break_Out_Category',\n",
       "        'Break_out', 'CategoryID', 'TopicID', 'IndicatorID',\n",
       "        'Data_Value_TypeID', 'BreakoutCategoryID', 'BreakOutID', 'LocationID',\n",
       "        'GeoLocation'],\n",
       "       dtype='object')]"
      ]
     },
     "execution_count": 5,
     "metadata": {},
     "output_type": "execute_result"
    }
   ],
   "source": [
    "df.axes"
   ]
  },
  {
   "cell_type": "code",
   "execution_count": 6,
   "id": "3793d64c",
   "metadata": {},
   "outputs": [
    {
     "data": {
      "text/html": [
       "<div>\n",
       "<style scoped>\n",
       "    .dataframe tbody tr th:only-of-type {\n",
       "        vertical-align: middle;\n",
       "    }\n",
       "\n",
       "    .dataframe tbody tr th {\n",
       "        vertical-align: top;\n",
       "    }\n",
       "\n",
       "    .dataframe thead th {\n",
       "        text-align: right;\n",
       "    }\n",
       "</style>\n",
       "<table border=\"1\" class=\"dataframe\">\n",
       "  <thead>\n",
       "    <tr style=\"text-align: right;\">\n",
       "      <th></th>\n",
       "      <th>Year</th>\n",
       "      <th>LocationAbbr</th>\n",
       "      <th>LocationDesc</th>\n",
       "      <th>Datasource</th>\n",
       "      <th>PriorityArea1</th>\n",
       "      <th>PriorityArea2</th>\n",
       "      <th>PriorityArea3</th>\n",
       "      <th>PriorityArea4</th>\n",
       "      <th>Category</th>\n",
       "      <th>Topic</th>\n",
       "      <th>...</th>\n",
       "      <th>Break_Out_Category</th>\n",
       "      <th>Break_out</th>\n",
       "      <th>CategoryID</th>\n",
       "      <th>TopicID</th>\n",
       "      <th>IndicatorID</th>\n",
       "      <th>Data_Value_TypeID</th>\n",
       "      <th>BreakoutCategoryID</th>\n",
       "      <th>BreakOutID</th>\n",
       "      <th>LocationID</th>\n",
       "      <th>GeoLocation</th>\n",
       "    </tr>\n",
       "  </thead>\n",
       "  <tbody>\n",
       "    <tr>\n",
       "      <th>0</th>\n",
       "      <td>2011</td>\n",
       "      <td>AL</td>\n",
       "      <td>Alabama</td>\n",
       "      <td>BRFSS</td>\n",
       "      <td>None</td>\n",
       "      <td>None</td>\n",
       "      <td>None</td>\n",
       "      <td>None</td>\n",
       "      <td>Cardiovascular Diseases</td>\n",
       "      <td>Major Cardiovascular Disease</td>\n",
       "      <td>...</td>\n",
       "      <td>Overall</td>\n",
       "      <td>Overall</td>\n",
       "      <td>C1</td>\n",
       "      <td>T1</td>\n",
       "      <td>BR001</td>\n",
       "      <td>AgeStdz</td>\n",
       "      <td>BOC01</td>\n",
       "      <td>OVR01</td>\n",
       "      <td>1</td>\n",
       "      <td>(32.84057112200048, -86.63186076199969)</td>\n",
       "    </tr>\n",
       "    <tr>\n",
       "      <th>1</th>\n",
       "      <td>2011</td>\n",
       "      <td>AL</td>\n",
       "      <td>Alabama</td>\n",
       "      <td>BRFSS</td>\n",
       "      <td>None</td>\n",
       "      <td>None</td>\n",
       "      <td>None</td>\n",
       "      <td>None</td>\n",
       "      <td>Cardiovascular Diseases</td>\n",
       "      <td>Major Cardiovascular Disease</td>\n",
       "      <td>...</td>\n",
       "      <td>Overall</td>\n",
       "      <td>Overall</td>\n",
       "      <td>C1</td>\n",
       "      <td>T1</td>\n",
       "      <td>BR001</td>\n",
       "      <td>Crude</td>\n",
       "      <td>BOC01</td>\n",
       "      <td>OVR01</td>\n",
       "      <td>1</td>\n",
       "      <td>(32.84057112200048, -86.63186076199969)</td>\n",
       "    </tr>\n",
       "    <tr>\n",
       "      <th>2</th>\n",
       "      <td>2011</td>\n",
       "      <td>AL</td>\n",
       "      <td>Alabama</td>\n",
       "      <td>BRFSS</td>\n",
       "      <td>None</td>\n",
       "      <td>None</td>\n",
       "      <td>None</td>\n",
       "      <td>None</td>\n",
       "      <td>Cardiovascular Diseases</td>\n",
       "      <td>Major Cardiovascular Disease</td>\n",
       "      <td>...</td>\n",
       "      <td>Gender</td>\n",
       "      <td>Male</td>\n",
       "      <td>C1</td>\n",
       "      <td>T1</td>\n",
       "      <td>BR001</td>\n",
       "      <td>Crude</td>\n",
       "      <td>BOC02</td>\n",
       "      <td>GEN01</td>\n",
       "      <td>1</td>\n",
       "      <td>(32.84057112200048, -86.63186076199969)</td>\n",
       "    </tr>\n",
       "  </tbody>\n",
       "</table>\n",
       "<p>3 rows × 29 columns</p>\n",
       "</div>"
      ],
      "text/plain": [
       "   Year LocationAbbr LocationDesc Datasource PriorityArea1 PriorityArea2  \\\n",
       "0  2011           AL      Alabama      BRFSS          None          None   \n",
       "1  2011           AL      Alabama      BRFSS          None          None   \n",
       "2  2011           AL      Alabama      BRFSS          None          None   \n",
       "\n",
       "  PriorityArea3 PriorityArea4                 Category  \\\n",
       "0          None          None  Cardiovascular Diseases   \n",
       "1          None          None  Cardiovascular Diseases   \n",
       "2          None          None  Cardiovascular Diseases   \n",
       "\n",
       "                          Topic  ... Break_Out_Category Break_out CategoryID  \\\n",
       "0  Major Cardiovascular Disease  ...            Overall   Overall         C1   \n",
       "1  Major Cardiovascular Disease  ...            Overall   Overall         C1   \n",
       "2  Major Cardiovascular Disease  ...             Gender      Male         C1   \n",
       "\n",
       "   TopicID  IndicatorID Data_Value_TypeID BreakoutCategoryID  BreakOutID  \\\n",
       "0       T1        BR001           AgeStdz              BOC01       OVR01   \n",
       "1       T1        BR001             Crude              BOC01       OVR01   \n",
       "2       T1        BR001             Crude              BOC02       GEN01   \n",
       "\n",
       "   LocationID                              GeoLocation  \n",
       "0           1  (32.84057112200048, -86.63186076199969)  \n",
       "1           1  (32.84057112200048, -86.63186076199969)  \n",
       "2           1  (32.84057112200048, -86.63186076199969)  \n",
       "\n",
       "[3 rows x 29 columns]"
      ]
     },
     "execution_count": 6,
     "metadata": {},
     "output_type": "execute_result"
    }
   ],
   "source": [
    "df.head(3)"
   ]
  },
  {
   "cell_type": "code",
   "execution_count": 7,
   "id": "d79bb5c5",
   "metadata": {},
   "outputs": [],
   "source": [
    "# filling null values"
   ]
  },
  {
   "cell_type": "code",
   "execution_count": 8,
   "id": "d5f299ca",
   "metadata": {},
   "outputs": [
    {
     "data": {
      "text/plain": [
       "28768"
      ]
     },
     "execution_count": 8,
     "metadata": {},
     "output_type": "execute_result"
    }
   ],
   "source": [
    "df['Data_Value'].isna().sum()"
   ]
  },
  {
   "cell_type": "code",
   "execution_count": 9,
   "id": "08cd8b28",
   "metadata": {},
   "outputs": [],
   "source": [
    "mean= df['Data_Value'].mean()\n",
    "df['Data_Value']= df['Data_Value'].fillna(mean)"
   ]
  },
  {
   "cell_type": "code",
   "execution_count": 10,
   "id": "6a2672d1",
   "metadata": {},
   "outputs": [
    {
     "data": {
      "text/plain": [
       "array(['Percent (%)'], dtype=object)"
      ]
     },
     "execution_count": 10,
     "metadata": {},
     "output_type": "execute_result"
    }
   ],
   "source": [
    "df['Data_Value_Unit'].unique()"
   ]
  },
  {
   "cell_type": "code",
   "execution_count": 11,
   "id": "0611f83d",
   "metadata": {},
   "outputs": [],
   "source": [
    "#drop 'Data_Value_Unit' \n",
    "df.drop('Data_Value_Unit',axis=1,inplace=True)"
   ]
  },
  {
   "cell_type": "code",
   "execution_count": 12,
   "id": "90d5f307",
   "metadata": {},
   "outputs": [
    {
     "data": {
      "text/plain": [
       "Year                              0\n",
       "LocationAbbr                      0\n",
       "LocationDesc                      0\n",
       "Datasource                        0\n",
       "PriorityArea1                     0\n",
       "PriorityArea2                     0\n",
       "PriorityArea3                     0\n",
       "PriorityArea4                     0\n",
       "Category                          0\n",
       "Topic                             0\n",
       "Indicator                         0\n",
       "Data_Value_Type                   0\n",
       "Data_Value                        0\n",
       "Data_Value_Alt                    0\n",
       "Data_Value_Footnote_Symbol    57032\n",
       "Data_Value_Footnote           57032\n",
       "Confidence_Limit_Low          30167\n",
       "Confidence_Limit_High         30167\n",
       "Break_Out_Category                0\n",
       "Break_out                         0\n",
       "CategoryID                        0\n",
       "TopicID                           0\n",
       "IndicatorID                       0\n",
       "Data_Value_TypeID                 0\n",
       "BreakoutCategoryID                0\n",
       "BreakOutID                        0\n",
       "LocationID                        0\n",
       "GeoLocation                    1650\n",
       "dtype: int64"
      ]
     },
     "execution_count": 12,
     "metadata": {},
     "output_type": "execute_result"
    }
   ],
   "source": [
    "df.isna().sum()"
   ]
  },
  {
   "cell_type": "code",
   "execution_count": 13,
   "id": "9b97713b",
   "metadata": {},
   "outputs": [
    {
     "data": {
      "text/plain": [
       "30.503186957381704"
      ]
     },
     "execution_count": 13,
     "metadata": {},
     "output_type": "execute_result"
    }
   ],
   "source": [
    "df['Confidence_Limit_Low'].mean()"
   ]
  },
  {
   "cell_type": "code",
   "execution_count": 14,
   "id": "0ce868f0",
   "metadata": {},
   "outputs": [],
   "source": [
    "mean= df['Confidence_Limit_Low'].mean()\n",
    "df['Confidence_Limit_Low']= df['Confidence_Limit_Low'].fillna(mean)"
   ]
  },
  {
   "cell_type": "code",
   "execution_count": 15,
   "id": "9bd3c678",
   "metadata": {},
   "outputs": [
    {
     "data": {
      "text/plain": [
       "36.873832078083"
      ]
     },
     "execution_count": 15,
     "metadata": {},
     "output_type": "execute_result"
    }
   ],
   "source": [
    "df['Confidence_Limit_High'].mean()"
   ]
  },
  {
   "cell_type": "code",
   "execution_count": 16,
   "id": "ba7aaccc",
   "metadata": {},
   "outputs": [],
   "source": [
    "mean= df['Confidence_Limit_High'].mean()\n",
    "df['Confidence_Limit_High']= df['Confidence_Limit_Low'].fillna(mean)"
   ]
  },
  {
   "cell_type": "code",
   "execution_count": 17,
   "id": "043c0af0",
   "metadata": {},
   "outputs": [
    {
     "data": {
      "text/plain": [
       "array([nan, '~', '-'], dtype=object)"
      ]
     },
     "execution_count": 17,
     "metadata": {},
     "output_type": "execute_result"
    }
   ],
   "source": [
    "df['Data_Value_Footnote_Symbol'].unique()"
   ]
  },
  {
   "cell_type": "code",
   "execution_count": 18,
   "id": "a3525f2c",
   "metadata": {},
   "outputs": [],
   "source": [
    " df.drop('Data_Value_Footnote_Symbol',axis=1,inplace=True)"
   ]
  },
  {
   "cell_type": "code",
   "execution_count": 19,
   "id": "68d13a13",
   "metadata": {},
   "outputs": [
    {
     "data": {
      "text/plain": [
       "array([nan,\n",
       "       'Statistically unstable estimates not presented [unstable by CDC standards: (standard error/estimate>0.30)]',\n",
       "       'Data not available'], dtype=object)"
      ]
     },
     "execution_count": 19,
     "metadata": {},
     "output_type": "execute_result"
    }
   ],
   "source": [
    "df['Data_Value_Footnote'].unique()"
   ]
  },
  {
   "cell_type": "code",
   "execution_count": 20,
   "id": "679c13ed",
   "metadata": {},
   "outputs": [],
   "source": [
    "df.drop([\"Data_Value_Footnote\"], axis=1, inplace=True)"
   ]
  },
  {
   "cell_type": "code",
   "execution_count": 21,
   "id": "8b3077ad",
   "metadata": {},
   "outputs": [
    {
     "data": {
      "text/plain": [
       "['Solarize_Light2',\n",
       " '_classic_test_patch',\n",
       " '_mpl-gallery',\n",
       " '_mpl-gallery-nogrid',\n",
       " 'bmh',\n",
       " 'classic',\n",
       " 'dark_background',\n",
       " 'fast',\n",
       " 'fivethirtyeight',\n",
       " 'ggplot',\n",
       " 'grayscale',\n",
       " 'seaborn',\n",
       " 'seaborn-bright',\n",
       " 'seaborn-colorblind',\n",
       " 'seaborn-dark',\n",
       " 'seaborn-dark-palette',\n",
       " 'seaborn-darkgrid',\n",
       " 'seaborn-deep',\n",
       " 'seaborn-muted',\n",
       " 'seaborn-notebook',\n",
       " 'seaborn-paper',\n",
       " 'seaborn-pastel',\n",
       " 'seaborn-poster',\n",
       " 'seaborn-talk',\n",
       " 'seaborn-ticks',\n",
       " 'seaborn-white',\n",
       " 'seaborn-whitegrid',\n",
       " 'tableau-colorblind10']"
      ]
     },
     "execution_count": 21,
     "metadata": {},
     "output_type": "execute_result"
    }
   ],
   "source": [
    "import matplotlib.style as style\n",
    "style.available"
   ]
  },
  {
   "cell_type": "code",
   "execution_count": 22,
   "id": "b4fe1fcf",
   "metadata": {},
   "outputs": [],
   "source": [
    "style.use(\"ggplot\")"
   ]
  },
  {
   "cell_type": "code",
   "execution_count": 23,
   "id": "867edb62",
   "metadata": {},
   "outputs": [
    {
     "data": {
      "image/png": "[encoded data removed]",
      "text/plain": [
       "<Figure size 1000x500 with 1 Axes>"
      ]
     },
     "metadata": {},
     "output_type": "display_data"
    }
   ],
   "source": [
    "for i in ['Year']:\n",
    "    plt.figure(figsize=(10,5))\n",
    "    sns.histplot(df[i])\n",
    "    plt.show()"
   ]
  },
  {
   "cell_type": "code",
   "execution_count": 24,
   "id": "1e9a1a99",
   "metadata": {},
   "outputs": [
    {
     "data": {
      "image/png": "[encoded data removed]",
      "text/plain": [
       "<Figure size 1000x500 with 1 Axes>"
      ]
     },
     "metadata": {},
     "output_type": "display_data"
    }
   ],
   "source": [
    "for i in ['Data_Value']:\n",
    "    plt.figure(figsize=(10,5))\n",
    "    sns.histplot(df[i])\n",
    "    plt.show()"
   ]
  },
  {
   "cell_type": "code",
   "execution_count": 25,
   "id": "c8d2f229",
   "metadata": {},
   "outputs": [
    {
     "data": {
      "image/png": "[encoded data removed]",
      "text/plain": [
       "<Figure size 1000x500 with 1 Axes>"
      ]
     },
     "metadata": {},
     "output_type": "display_data"
    }
   ],
   "source": [
    "for i in ['Confidence_Limit_Low']:\n",
    "    plt.figure(figsize=(10,5))\n",
    "    sns.histplot(df[i])\n",
    "    plt.show()"
   ]
  },
  {
   "cell_type": "code",
   "execution_count": 26,
   "id": "4d1eaa34",
   "metadata": {},
   "outputs": [
    {
     "data": {
      "image/png": "[encoded data removed]",
      "text/plain": [
       "<Figure size 1000x500 with 1 Axes>"
      ]
     },
     "metadata": {},
     "output_type": "display_data"
    }
   ],
   "source": [
    "for i in ['Confidence_Limit_High']:\n",
    "    plt.figure(figsize=(10,5))\n",
    "    sns.histplot(df[i])\n",
    "    plt.show()"
   ]
  },
  {
   "cell_type": "markdown",
   "id": "c33dbab2",
   "metadata": {},
   "source": [
    "## Encoding:"
   ]
  },
  {
   "cell_type": "markdown",
   "id": "8549fa55",
   "metadata": {},
   "source": [
    "### count encoder:"
   ]
  },
  {
   "cell_type": "code",
   "execution_count": 27,
   "id": "f7d3e9d2",
   "metadata": {},
   "outputs": [],
   "source": [
    "## Now encode all categorical features using sutaible encoding techniques"
   ]
  },
  {
   "cell_type": "markdown",
   "id": "e724870f",
   "metadata": {},
   "source": [
    "### Count encoder"
   ]
  },
  {
   "cell_type": "code",
   "execution_count": 28,
   "id": "89e69919",
   "metadata": {},
   "outputs": [],
   "source": [
    "from category_encoders import CountEncoder"
   ]
  },
  {
   "cell_type": "code",
   "execution_count": 29,
   "id": "815df991",
   "metadata": {},
   "outputs": [
    {
     "data": {
      "text/plain": [
       "array(['Overall', 'Gender', 'Age', 'Race'], dtype=object)"
      ]
     },
     "execution_count": 29,
     "metadata": {},
     "output_type": "execute_result"
    }
   ],
   "source": [
    "df['Break_Out_Category'].unique()"
   ]
  },
  {
   "cell_type": "code",
   "execution_count": 30,
   "id": "a9b26c8b",
   "metadata": {},
   "outputs": [
    {
     "data": {
      "text/plain": [
       "Race       39000\n",
       "Age        23400\n",
       "Gender     15600\n",
       "Overall     7800\n",
       "Name: Break_Out_Category, dtype: int64"
      ]
     },
     "execution_count": 30,
     "metadata": {},
     "output_type": "execute_result"
    }
   ],
   "source": [
    "df['Break_Out_Category'].value_counts()"
   ]
  },
  {
   "cell_type": "code",
   "execution_count": 31,
   "id": "365c3401",
   "metadata": {},
   "outputs": [
    {
     "data": {
      "text/plain": [
       "array(['BOC01', 'BOC02', 'BOC03', 'BOC04'], dtype=object)"
      ]
     },
     "execution_count": 31,
     "metadata": {},
     "output_type": "execute_result"
    }
   ],
   "source": [
    "df['BreakoutCategoryID'].unique()"
   ]
  },
  {
   "cell_type": "code",
   "execution_count": 32,
   "id": "ba8f06ba",
   "metadata": {},
   "outputs": [
    {
     "data": {
      "text/plain": [
       "BOC04    39000\n",
       "BOC03    23400\n",
       "BOC02    15600\n",
       "BOC01     7800\n",
       "Name: BreakoutCategoryID, dtype: int64"
      ]
     },
     "execution_count": 32,
     "metadata": {},
     "output_type": "execute_result"
    }
   ],
   "source": [
    "df['BreakoutCategoryID'].value_counts()"
   ]
  },
  {
   "cell_type": "code",
   "execution_count": 33,
   "id": "f2359dbc",
   "metadata": {},
   "outputs": [],
   "source": [
    "count_enc= CountEncoder(normalize=True,cols=['Break_Out_Category','BreakoutCategoryID'])\n",
    "df= count_enc.fit_transform(df)"
   ]
  },
  {
   "cell_type": "markdown",
   "id": "f507b668",
   "metadata": {},
   "source": [
    "### OneHotEncoder:"
   ]
  },
  {
   "cell_type": "code",
   "execution_count": 34,
   "id": "9506ffeb",
   "metadata": {},
   "outputs": [
    {
     "data": {
      "text/plain": [
       "AL     1650\n",
       "AK     1650\n",
       "NE     1650\n",
       "NV     1650\n",
       "NH     1650\n",
       "NJ     1650\n",
       "NM     1650\n",
       "NY     1650\n",
       "NC     1650\n",
       "ND     1650\n",
       "OH     1650\n",
       "OK     1650\n",
       "OR     1650\n",
       "PA     1650\n",
       "RI     1650\n",
       "SC     1650\n",
       "SD     1650\n",
       "TN     1650\n",
       "TX     1650\n",
       "UT     1650\n",
       "VT     1650\n",
       "VA     1650\n",
       "WA     1650\n",
       "WV     1650\n",
       "WI     1650\n",
       "MT     1650\n",
       "MO     1650\n",
       "MS     1650\n",
       "HI     1650\n",
       "AZ     1650\n",
       "AR     1650\n",
       "CA     1650\n",
       "CO     1650\n",
       "CT     1650\n",
       "DE     1650\n",
       "USM    1650\n",
       "DC     1650\n",
       "FL     1650\n",
       "GA     1650\n",
       "ID     1650\n",
       "MN     1650\n",
       "IL     1650\n",
       "IN     1650\n",
       "IA     1650\n",
       "KS     1650\n",
       "KY     1650\n",
       "LA     1650\n",
       "ME     1650\n",
       "MD     1650\n",
       "MA     1650\n",
       "MI     1650\n",
       "WY     1650\n",
       "Name: LocationAbbr, dtype: int64"
      ]
     },
     "execution_count": 34,
     "metadata": {},
     "output_type": "execute_result"
    }
   ],
   "source": [
    "df['LocationAbbr'].value_counts()"
   ]
  },
  {
   "cell_type": "code",
   "execution_count": 35,
   "id": "bf5d5657",
   "metadata": {},
   "outputs": [
    {
     "data": {
      "text/plain": [
       "array(['BRFSS'], dtype=object)"
      ]
     },
     "execution_count": 35,
     "metadata": {},
     "output_type": "execute_result"
    }
   ],
   "source": [
    "df['Datasource'].unique()"
   ]
  },
  {
   "cell_type": "code",
   "execution_count": 36,
   "id": "5dd63979",
   "metadata": {},
   "outputs": [],
   "source": [
    "from sklearn.preprocessing import OneHotEncoder"
   ]
  },
  {
   "cell_type": "code",
   "execution_count": 37,
   "id": "637eb4b9",
   "metadata": {},
   "outputs": [],
   "source": [
    "df= pd.get_dummies(df,columns=['LocationAbbr','Datasource'])"
   ]
  },
  {
   "cell_type": "markdown",
   "id": "c6641f12",
   "metadata": {},
   "source": [
    "### Ordinal Encoding:"
   ]
  },
  {
   "cell_type": "code",
   "execution_count": 38,
   "id": "b83b12ab",
   "metadata": {},
   "outputs": [
    {
     "data": {
      "text/plain": [
       "array(['Alabama', 'Alaska', 'Arizona', 'Arkansas', 'California',\n",
       "       'Colorado', 'Connecticut', 'Delaware', 'Median of all states',\n",
       "       'Washington, DC', 'Florida', 'Georgia', 'Hawaii', 'Idaho',\n",
       "       'Illinois', 'Indiana', 'Iowa', 'Kansas', 'Kentucky', 'Louisiana',\n",
       "       'Maine', 'Maryland', 'Massachusetts', 'Michigan', 'Minnesota',\n",
       "       'Mississippi', 'Missouri', 'Montana', 'Nebraska', 'Nevada',\n",
       "       'New Hampshire', 'New Jersey', 'New Mexico', 'New York',\n",
       "       'North Carolina', 'North Dakota', 'Ohio', 'Oklahoma', 'Oregon',\n",
       "       'Pennsylvania', 'Rhode Island', 'South Carolina', 'South Dakota',\n",
       "       'Tennessee', 'Texas', 'Utah', 'Vermont', 'Virginia', 'Washington',\n",
       "       'West Virginia', 'Wisconsin', 'Wyoming'], dtype=object)"
      ]
     },
     "execution_count": 38,
     "metadata": {},
     "output_type": "execute_result"
    }
   ],
   "source": [
    "df['LocationDesc'].unique()"
   ]
  },
  {
   "cell_type": "code",
   "execution_count": 39,
   "id": "0b9727b8",
   "metadata": {},
   "outputs": [
    {
     "data": {
      "text/plain": [
       "array(['Major Cardiovascular Disease', 'Stroke', 'Diabetes',\n",
       "       'Acute Myocardial Infarction (Heart Attack)',\n",
       "       'Coronary Heart Disease', 'Cholesterol Abnormalities', 'Nutrition',\n",
       "       'Obesity', 'Smoking', 'Physical Inactivity', 'Hypertension'],\n",
       "      dtype=object)"
      ]
     },
     "execution_count": 39,
     "metadata": {},
     "output_type": "execute_result"
    }
   ],
   "source": [
    "df['Topic'].unique()"
   ]
  },
  {
   "cell_type": "code",
   "execution_count": 40,
   "id": "9502e67c",
   "metadata": {},
   "outputs": [
    {
     "data": {
      "text/plain": [
       "Acute Myocardial Infarction (Heart Attack)    11440\n",
       "Cholesterol Abnormalities                     11440\n",
       "Obesity                                       11440\n",
       "Hypertension                                  11440\n",
       "Major Cardiovascular Disease                   5720\n",
       "Stroke                                         5720\n",
       "Diabetes                                       5720\n",
       "Coronary Heart Disease                         5720\n",
       "Nutrition                                      5720\n",
       "Smoking                                        5720\n",
       "Physical Inactivity                            5720\n",
       "Name: Topic, dtype: int64"
      ]
     },
     "execution_count": 40,
     "metadata": {},
     "output_type": "execute_result"
    }
   ],
   "source": [
    "df['Topic'].value_counts()"
   ]
  },
  {
   "cell_type": "code",
   "execution_count": 41,
   "id": "14bb73e5",
   "metadata": {},
   "outputs": [],
   "source": [
    "from category_encoders import OrdinalEncoder"
   ]
  },
  {
   "cell_type": "code",
   "execution_count": 42,
   "id": "c5532da4",
   "metadata": {},
   "outputs": [],
   "source": [
    "ord_enc=OrdinalEncoder(cols=['LocationDesc','Topic'])\n",
    "df=ord_enc.fit_transform(df)"
   ]
  },
  {
   "cell_type": "code",
   "execution_count": 43,
   "id": "b868f0c6",
   "metadata": {},
   "outputs": [
    {
     "data": {
      "text/plain": [
       "array(['None', 'Million Hearts'], dtype=object)"
      ]
     },
     "execution_count": 43,
     "metadata": {},
     "output_type": "execute_result"
    }
   ],
   "source": [
    "df['PriorityArea1'].unique()"
   ]
  },
  {
   "cell_type": "code",
   "execution_count": 44,
   "id": "5806da7b",
   "metadata": {},
   "outputs": [
    {
     "data": {
      "text/plain": [
       "array(['None', 'ABCS'], dtype=object)"
      ]
     },
     "execution_count": 44,
     "metadata": {},
     "output_type": "execute_result"
    }
   ],
   "source": [
    "df['PriorityArea2'].unique()"
   ]
  },
  {
   "cell_type": "code",
   "execution_count": 45,
   "id": "c18e378e",
   "metadata": {},
   "outputs": [
    {
     "data": {
      "text/plain": [
       "array(['None', 'Healthy People 2020'], dtype=object)"
      ]
     },
     "execution_count": 45,
     "metadata": {},
     "output_type": "execute_result"
    }
   ],
   "source": [
    "df['PriorityArea3'].unique()"
   ]
  },
  {
   "cell_type": "code",
   "execution_count": 46,
   "id": "1b2d7507",
   "metadata": {},
   "outputs": [
    {
     "data": {
      "text/plain": [
       "array(['None'], dtype=object)"
      ]
     },
     "execution_count": 46,
     "metadata": {},
     "output_type": "execute_result"
    }
   ],
   "source": [
    "df['PriorityArea4'].unique()"
   ]
  },
  {
   "cell_type": "code",
   "execution_count": 47,
   "id": "b3b60d7e",
   "metadata": {},
   "outputs": [],
   "source": [
    "col= ['PriorityArea1','PriorityArea2','PriorityArea3','PriorityArea4']\n",
    "df.drop(col,axis=1,inplace=True)"
   ]
  },
  {
   "cell_type": "code",
   "execution_count": 48,
   "id": "93f16dd4",
   "metadata": {},
   "outputs": [
    {
     "data": {
      "text/plain": [
       "Prevalence of major cardiovascular disease among US adults (18+); BRFSS                                  5720\n",
       "Prevalence of stroke among US adults (18+); BRFSS                                                        5720\n",
       "Prevalence of diabetes among US adults (18+); BRFSS                                                      5720\n",
       "Prevalence of acute myocardial infarction (heart attack) among US adults (18+); BRFSS                    5720\n",
       "Prevalence of coronary heart disease among US adults (18+); BRFSS                                        5720\n",
       "Prevalence of post-hospitalization rehabilitation among heart attack patients, US adults (18+); BRFSS    5720\n",
       "Prevalence of cholesterol screening in the past 5 years among US adults (20+); BRFSS                     5720\n",
       "Prevalence of high total cholesterol among US adults (20+); BRFSS                                        5720\n",
       "Prevalence of consuming fruits and vegetables less than 5 times per day among US adults (18+); BRFSS     5720\n",
       "Prevalence of obesity among US adults (20+); BRFSS                                                       5720\n",
       "Prevalence of healthy weight among US adults (20+); BRFSS                                                5720\n",
       "Prevalence of current smoking among US adults (18+); BRFSS                                               5720\n",
       "Prevalence of physical inactivity among US adults (18+); BRFSS                                           5720\n",
       "Prevalence of hypertension among US adults (18+); BRFSS                                                  5720\n",
       "Prevalence of hypertension medication use among US adults (18+) with hypertension; BRFSS                 5720\n",
       "Name: Indicator, dtype: int64"
      ]
     },
     "execution_count": 48,
     "metadata": {},
     "output_type": "execute_result"
    }
   ],
   "source": [
    "df[\"Indicator\"].value_counts()"
   ]
  },
  {
   "cell_type": "code",
   "execution_count": 49,
   "id": "2cdfe781",
   "metadata": {
    "scrolled": true
   },
   "outputs": [
    {
     "data": {
      "text/plain": [
       "0        Age-Standardized\n",
       "1                   Crude\n",
       "2                   Crude\n",
       "3        Age-Standardized\n",
       "4        Age-Standardized\n",
       "               ...       \n",
       "85795    Age-Standardized\n",
       "85796    Age-Standardized\n",
       "85797               Crude\n",
       "85798               Crude\n",
       "85799    Age-Standardized\n",
       "Name: Data_Value_Type, Length: 85800, dtype: object"
      ]
     },
     "execution_count": 49,
     "metadata": {},
     "output_type": "execute_result"
    }
   ],
   "source": [
    "df[\"Data_Value_Type\"]"
   ]
  },
  {
   "cell_type": "code",
   "execution_count": 50,
   "id": "886977fd",
   "metadata": {},
   "outputs": [
    {
     "data": {
      "text/plain": [
       "array([0, 1])"
      ]
     },
     "execution_count": 50,
     "metadata": {},
     "output_type": "execute_result"
    }
   ],
   "source": [
    "from sklearn import preprocessing\n",
    "label_encoder = preprocessing.LabelEncoder()\n",
    "df[\"Data_Value_Type\"]= label_encoder.fit_transform(df['Data_Value_Type'])\n",
    "df['Data_Value_Type'].unique()"
   ]
  },
  {
   "cell_type": "code",
   "execution_count": 51,
   "id": "2d802050",
   "metadata": {},
   "outputs": [
    {
     "data": {
      "text/plain": [
       "Crude      54600\n",
       "AgeStdz    31200\n",
       "Name: Data_Value_TypeID, dtype: int64"
      ]
     },
     "execution_count": 51,
     "metadata": {},
     "output_type": "execute_result"
    }
   ],
   "source": [
    "df[\"Data_Value_TypeID\"].value_counts()"
   ]
  },
  {
   "cell_type": "code",
   "execution_count": 52,
   "id": "1a863395",
   "metadata": {},
   "outputs": [
    {
     "data": {
      "text/plain": [
       "(32.84057112200048, -86.63186076199969)      1650\n",
       "(40.79373015200048, -77.86070029399963)      1650\n",
       "(39.493240390000494, -117.07184056399967)    1650\n",
       "(43.65595011300047, -71.50036091999965)      1650\n",
       "(40.13057004800049, -74.27369128799967)      1650\n",
       "(34.52088095200048, -106.24058098499967)     1650\n",
       "(42.82700103200045, -75.54397042699964)      1650\n",
       "(35.466220975000454, -79.15925046299964)     1650\n",
       "(47.47531977900047, -100.11842104899966)     1650\n",
       "(40.06021014100048, -82.40426005599966)      1650\n",
       "(35.47203135600046, -97.52107021399968)      1650\n",
       "(44.56744942400047, -120.15503132599969)     1650\n",
       "(41.70828019300046, -71.52247031399963)      1650\n",
       "(47.06652897200047, -109.42442064499971)     1650\n",
       "(33.998821303000454, -81.04537120699968)     1650\n",
       "(44.353130053000484, -100.3735306369997)     1650\n",
       "(35.68094058000048, -85.77449091399967)      1650\n",
       "(31.827240407000488, -99.42677020599967)     1650\n",
       "(39.360700171000474, -111.58713063499971)    1650\n",
       "(43.62538123900049, -72.51764079099962)      1650\n",
       "(37.54268067400045, -78.45789046299967)      1650\n",
       "(47.52227862900048, -120.47001078999972)     1650\n",
       "(38.66551020200046, -80.71264013499967)      1650\n",
       "(44.39319117400049, -89.81637074199966)      1650\n",
       "(41.6410409880005, -99.36572062299967)       1650\n",
       "(38.635790776000476, -92.56630005299968)     1650\n",
       "(64.84507995700051, -147.72205903599973)     1650\n",
       "(43.682630005000476, -114.3637300419997)     1650\n",
       "(34.865970280000454, -111.76381127699972)    1650\n",
       "(34.74865012400045, -92.27449074299966)      1650\n",
       "(37.63864012300047, -120.99999953799971)     1650\n",
       "(38.843840757000464, -106.13361092099967)    1650\n",
       "(41.56266102000046, -72.64984095199964)      1650\n",
       "(39.008830667000495, -75.57774116799965)     1650\n",
       "(38.89037138500049, -77.03196112699965)      1650\n",
       "(28.932040377000476, -81.92896053899966)     1650\n",
       "(32.83968109300048, -83.62758034599966)      1650\n",
       "(21.304850435000446, -157.85774940299973)    1650\n",
       "(40.48501028300046, -88.99771017799969)      1650\n",
       "(32.745510099000455, -89.53803082499968)     1650\n",
       "(39.766910452000445, -86.14996019399968)     1650\n",
       "(42.46940091300047, -93.81649055599968)      1650\n",
       "(38.34774030000045, -98.20078122699965)      1650\n",
       "(37.645970271000465, -84.77497104799966)     1650\n",
       "(31.31266064400046, -92.44568007099969)      1650\n",
       "(45.254228894000505, -68.98503133599962)     1650\n",
       "(39.29058096400047, -76.60926011099963)      1650\n",
       "(42.27687047000046, -72.08269067499964)      1650\n",
       "(44.6613195430005, -84.71439026999968)       1650\n",
       "(46.35564873600049, -94.79420050299967)      1650\n",
       "(43.23554134300048, -108.10983035299967)     1650\n",
       "Name: GeoLocation, dtype: int64"
      ]
     },
     "execution_count": 52,
     "metadata": {},
     "output_type": "execute_result"
    }
   ],
   "source": [
    "df[\"GeoLocation\"].value_counts()"
   ]
  },
  {
   "cell_type": "code",
   "execution_count": 53,
   "id": "9ef03c00",
   "metadata": {},
   "outputs": [
    {
     "data": {
      "text/plain": [
       "Overall               7800\n",
       "Male                  7800\n",
       "Female                7800\n",
       "Non-Hispanic White    7800\n",
       "Non-Hispanic Black    7800\n",
       "Non-Hispanic Asian    7800\n",
       "Hispanic              7800\n",
       "Other                 7800\n",
       "25-44                 3900\n",
       "45-64                 3900\n",
       "65+                   3900\n",
       "35+                   3900\n",
       "75+                   3900\n",
       "18-24                 2860\n",
       "20-24                 1040\n",
       "Name: Break_out, dtype: int64"
      ]
     },
     "execution_count": 53,
     "metadata": {},
     "output_type": "execute_result"
    }
   ],
   "source": [
    "df[\"Break_out\"].value_counts()"
   ]
  },
  {
   "cell_type": "code",
   "execution_count": 54,
   "id": "3e8b544f",
   "metadata": {},
   "outputs": [
    {
     "data": {
      "text/plain": [
       "OVR01    7800\n",
       "GEN01    7800\n",
       "GEN02    7800\n",
       "RAC01    7800\n",
       "RAC02    7800\n",
       "RAC03    7800\n",
       "RAC04    7800\n",
       "RAC07    7800\n",
       "AGE04    3900\n",
       "AGE05    3900\n",
       "AGE06    3900\n",
       "AGE07    3900\n",
       "AGE08    3900\n",
       "AGE01    2860\n",
       "AGE02    1040\n",
       "Name: BreakOutID, dtype: int64"
      ]
     },
     "execution_count": 54,
     "metadata": {},
     "output_type": "execute_result"
    }
   ],
   "source": [
    "df[\"BreakOutID\"].value_counts()"
   ]
  },
  {
   "cell_type": "code",
   "execution_count": 55,
   "id": "32ddb659",
   "metadata": {},
   "outputs": [
    {
     "data": {
      "text/plain": [
       "BR001    5720\n",
       "BR005    5720\n",
       "BR016    5720\n",
       "BR003    5720\n",
       "BR002    5720\n",
       "BR004    5720\n",
       "BR013    5720\n",
       "BR014    5720\n",
       "BR020    5720\n",
       "BR019    5720\n",
       "BR021    5720\n",
       "BR017    5720\n",
       "BR018    5720\n",
       "BR011    5720\n",
       "BR012    5720\n",
       "Name: IndicatorID, dtype: int64"
      ]
     },
     "execution_count": 55,
     "metadata": {},
     "output_type": "execute_result"
    }
   ],
   "source": [
    "df[\"IndicatorID\"].value_counts()"
   ]
  },
  {
   "cell_type": "code",
   "execution_count": 56,
   "id": "1ae496da",
   "metadata": {},
   "outputs": [],
   "source": [
    "import category_encoders as ce\n",
    "ordenc=ce.OrdinalEncoder(cols=['CategoryID','TopicID','Indicator','Data_Value_TypeID','GeoLocation','Break_out','BreakOutID','IndicatorID'])\n",
    "df=ordenc.fit_transform(df)"
   ]
  },
  {
   "cell_type": "code",
   "execution_count": 57,
   "id": "7611db6f",
   "metadata": {},
   "outputs": [
    {
     "data": {
      "text/plain": [
       "2    54600\n",
       "1    31200\n",
       "Name: Data_Value_TypeID, dtype: int64"
      ]
     },
     "execution_count": 57,
     "metadata": {},
     "output_type": "execute_result"
    }
   ],
   "source": [
    "df[\"Data_Value_TypeID\"].value_counts()"
   ]
  },
  {
   "cell_type": "code",
   "execution_count": 58,
   "id": "9e1ea890",
   "metadata": {},
   "outputs": [
    {
     "data": {
      "text/plain": [
       "Risk Factors               57200\n",
       "Cardiovascular Diseases    28600\n",
       "Name: Category, dtype: int64"
      ]
     },
     "execution_count": 58,
     "metadata": {},
     "output_type": "execute_result"
    }
   ],
   "source": [
    "df[\"Category\"].value_counts()"
   ]
  },
  {
   "cell_type": "code",
   "execution_count": 59,
   "id": "5ba76634",
   "metadata": {},
   "outputs": [
    {
     "data": {
      "text/plain": [
       "array([0, 1])"
      ]
     },
     "execution_count": 59,
     "metadata": {},
     "output_type": "execute_result"
    }
   ],
   "source": [
    "from sklearn import preprocessing\n",
    "label_encoder = preprocessing.LabelEncoder()\n",
    "df[\"Category\"]= label_encoder.fit_transform(df['Category'])\n",
    "df['Category'].unique()"
   ]
  },
  {
   "cell_type": "code",
   "execution_count": 60,
   "id": "6408e516",
   "metadata": {},
   "outputs": [
    {
     "data": {
      "text/plain": [
       "array([0, 1])"
      ]
     },
     "execution_count": 60,
     "metadata": {},
     "output_type": "execute_result"
    }
   ],
   "source": [
    "df[\"Category\"].unique()"
   ]
  },
  {
   "cell_type": "code",
   "execution_count": 65,
   "id": "f55cd860",
   "metadata": {},
   "outputs": [
    {
     "name": "stdout",
     "output_type": "stream",
     "text": [
      "<class 'pandas.core.frame.DataFrame'>\n",
      "RangeIndex: 85800 entries, 0 to 85799\n",
      "Data columns (total 73 columns):\n",
      " #   Column                 Non-Null Count  Dtype  \n",
      "---  ------                 --------------  -----  \n",
      " 0   Year                   85800 non-null  int64  \n",
      " 1   LocationDesc           85800 non-null  int32  \n",
      " 2   Category               85800 non-null  int32  \n",
      " 3   Topic                  85800 non-null  int32  \n",
      " 4   Indicator              85800 non-null  int32  \n",
      " 5   Data_Value_Type        85800 non-null  int32  \n",
      " 6   Data_Value             85800 non-null  float64\n",
      " 7   Data_Value_Alt         85800 non-null  float64\n",
      " 8   Confidence_Limit_Low   85800 non-null  float64\n",
      " 9   Confidence_Limit_High  85800 non-null  float64\n",
      " 10  Break_Out_Category     85800 non-null  float64\n",
      " 11  Break_out              85800 non-null  int32  \n",
      " 12  CategoryID             85800 non-null  int32  \n",
      " 13  TopicID                85800 non-null  int32  \n",
      " 14  IndicatorID            85800 non-null  int32  \n",
      " 15  Data_Value_TypeID      85800 non-null  int32  \n",
      " 16  BreakoutCategoryID     85800 non-null  float64\n",
      " 17  BreakOutID             85800 non-null  int32  \n",
      " 18  LocationID             85800 non-null  int64  \n",
      " 19  GeoLocation            85800 non-null  int32  \n",
      " 20  LocationAbbr_AK        85800 non-null  uint8  \n",
      " 21  LocationAbbr_AL        85800 non-null  uint8  \n",
      " 22  LocationAbbr_AR        85800 non-null  uint8  \n",
      " 23  LocationAbbr_AZ        85800 non-null  uint8  \n",
      " 24  LocationAbbr_CA        85800 non-null  uint8  \n",
      " 25  LocationAbbr_CO        85800 non-null  uint8  \n",
      " 26  LocationAbbr_CT        85800 non-null  uint8  \n",
      " 27  LocationAbbr_DC        85800 non-null  uint8  \n",
      " 28  LocationAbbr_DE        85800 non-null  uint8  \n",
      " 29  LocationAbbr_FL        85800 non-null  uint8  \n",
      " 30  LocationAbbr_GA        85800 non-null  uint8  \n",
      " 31  LocationAbbr_HI        85800 non-null  uint8  \n",
      " 32  LocationAbbr_IA        85800 non-null  uint8  \n",
      " 33  LocationAbbr_ID        85800 non-null  uint8  \n",
      " 34  LocationAbbr_IL        85800 non-null  uint8  \n",
      " 35  LocationAbbr_IN        85800 non-null  uint8  \n",
      " 36  LocationAbbr_KS        85800 non-null  uint8  \n",
      " 37  LocationAbbr_KY        85800 non-null  uint8  \n",
      " 38  LocationAbbr_LA        85800 non-null  uint8  \n",
      " 39  LocationAbbr_MA        85800 non-null  uint8  \n",
      " 40  LocationAbbr_MD        85800 non-null  uint8  \n",
      " 41  LocationAbbr_ME        85800 non-null  uint8  \n",
      " 42  LocationAbbr_MI        85800 non-null  uint8  \n",
      " 43  LocationAbbr_MN        85800 non-null  uint8  \n",
      " 44  LocationAbbr_MO        85800 non-null  uint8  \n",
      " 45  LocationAbbr_MS        85800 non-null  uint8  \n",
      " 46  LocationAbbr_MT        85800 non-null  uint8  \n",
      " 47  LocationAbbr_NC        85800 non-null  uint8  \n",
      " 48  LocationAbbr_ND        85800 non-null  uint8  \n",
      " 49  LocationAbbr_NE        85800 non-null  uint8  \n",
      " 50  LocationAbbr_NH        85800 non-null  uint8  \n",
      " 51  LocationAbbr_NJ        85800 non-null  uint8  \n",
      " 52  LocationAbbr_NM        85800 non-null  uint8  \n",
      " 53  LocationAbbr_NV        85800 non-null  uint8  \n",
      " 54  LocationAbbr_NY        85800 non-null  uint8  \n",
      " 55  LocationAbbr_OH        85800 non-null  uint8  \n",
      " 56  LocationAbbr_OK        85800 non-null  uint8  \n",
      " 57  LocationAbbr_OR        85800 non-null  uint8  \n",
      " 58  LocationAbbr_PA        85800 non-null  uint8  \n",
      " 59  LocationAbbr_RI        85800 non-null  uint8  \n",
      " 60  LocationAbbr_SC        85800 non-null  uint8  \n",
      " 61  LocationAbbr_SD        85800 non-null  uint8  \n",
      " 62  LocationAbbr_TN        85800 non-null  uint8  \n",
      " 63  LocationAbbr_TX        85800 non-null  uint8  \n",
      " 64  LocationAbbr_USM       85800 non-null  uint8  \n",
      " 65  LocationAbbr_UT        85800 non-null  uint8  \n",
      " 66  LocationAbbr_VA        85800 non-null  uint8  \n",
      " 67  LocationAbbr_VT        85800 non-null  uint8  \n",
      " 68  LocationAbbr_WA        85800 non-null  uint8  \n",
      " 69  LocationAbbr_WI        85800 non-null  uint8  \n",
      " 70  LocationAbbr_WV        85800 non-null  uint8  \n",
      " 71  LocationAbbr_WY        85800 non-null  uint8  \n",
      " 72  Datasource_BRFSS       85800 non-null  uint8  \n",
      "dtypes: float64(6), int32(12), int64(2), uint8(53)\n",
      "memory usage: 13.5 MB\n"
     ]
    }
   ],
   "source": [
    "df.info()"
   ]
  },
  {
   "cell_type": "markdown",
   "id": "c38ab3da",
   "metadata": {},
   "source": [
    "## Model building"
   ]
  },
  {
   "cell_type": "code",
   "execution_count": 66,
   "id": "77484ebe",
   "metadata": {},
   "outputs": [],
   "source": [
    "x = df.drop('Topic',axis=1)\n",
    "y = df[\"Topic\"]"
   ]
  },
  {
   "cell_type": "code",
   "execution_count": 67,
   "id": "c939e706",
   "metadata": {},
   "outputs": [],
   "source": [
    "from sklearn.model_selection import train_test_split\n",
    "x_train, x_test, y_train, y_test = train_test_split(x, y, test_size=0.2, random_state=64)"
   ]
  },
  {
   "cell_type": "code",
   "execution_count": 68,
   "id": "bf7e8b8b",
   "metadata": {},
   "outputs": [],
   "source": [
    "from sklearn.tree import DecisionTreeClassifier\n",
    "DT_model= DecisionTreeClassifier()\n",
    "DT_model.fit(x_train,y_train)\n",
    "y_pred= DT_model.predict(x_test)"
   ]
  },
  {
   "cell_type": "code",
   "execution_count": 69,
   "id": "0616e951",
   "metadata": {},
   "outputs": [],
   "source": [
    "from sklearn.metrics import accuracy_score,r2_score,confusion_matrix,classification_report,mean_squared_error"
   ]
  },
  {
   "cell_type": "code",
   "execution_count": 70,
   "id": "623c1ce9",
   "metadata": {},
   "outputs": [
    {
     "data": {
      "text/plain": [
       "1.0"
      ]
     },
     "execution_count": 70,
     "metadata": {},
     "output_type": "execute_result"
    }
   ],
   "source": [
    "accuracy_score(y_test,y_pred)"
   ]
  },
  {
   "cell_type": "code",
   "execution_count": 71,
   "id": "622eca2d",
   "metadata": {},
   "outputs": [
    {
     "data": {
      "text/plain": [
       "0.0"
      ]
     },
     "execution_count": 71,
     "metadata": {},
     "output_type": "execute_result"
    }
   ],
   "source": [
    "mean_squared_error(y_test,y_pred)"
   ]
  },
  {
   "cell_type": "code",
   "execution_count": null,
   "id": "f7a1ee6b",
   "metadata": {},
   "outputs": [],
   "source": [
    "# from sklearn.naive_bayes import GaussianNB\n",
    "# gnb = GaussianNB()\n",
    "# ypred = gnb.fit(x_train, y_train).predict(x_test)\n",
    "# ypred"
   ]
  },
  {
   "cell_type": "code",
   "execution_count": null,
   "id": "e4058f45",
   "metadata": {},
   "outputs": [],
   "source": [
    "# accuracy_score(y_test,y_pred)"
   ]
  },
  {
   "cell_type": "code",
   "execution_count": null,
   "id": "db383285",
   "metadata": {},
   "outputs": [],
   "source": [
    "# from sklearn.ensemble import RandomForestClassifier\n",
    "# rf_model= RandomForestClassifier()\n",
    "# rf_model.fit(x_train,y_train)\n",
    "# y_pred= rf_model.predict(x_test)\n",
    "# y_pred"
   ]
  },
  {
   "cell_type": "code",
   "execution_count": null,
   "id": "5aa29d79",
   "metadata": {},
   "outputs": [],
   "source": [
    "# accuracy_score(y_test,y_pred)"
   ]
  },
  {
   "cell_type": "code",
   "execution_count": null,
   "id": "1ef0c9b9",
   "metadata": {},
   "outputs": [],
   "source": []
  }
 ],
 "metadata": {
  "kernelspec": {
   "display_name": "Python 3 (ipykernel)",
   "language": "python",
   "name": "python3"
  },
  "language_info": {
   "codemirror_mode": {
    "name": "ipython",
    "version": 3
   },
   "file_extension": ".py",
   "mimetype": "text/x-python",
   "name": "python",
   "nbconvert_exporter": "python",
   "pygments_lexer": "ipython3",
   "version": "3.9.13"
  },
  "toc": {
   "base_numbering": 1,
   "nav_menu": {},
   "number_sections": true,
   "sideBar": true,
   "skip_h1_title": true,
   "title_cell": "Table of Contents",
   "title_sidebar": "Contents",
   "toc_cell": true,
   "toc_position": {},
   "toc_section_display": true,
   "toc_window_display": false
  }
 },
 "nbformat": 4,
 "nbformat_minor": 5
}
